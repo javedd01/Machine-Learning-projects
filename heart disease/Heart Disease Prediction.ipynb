{
 "cells": [
  {
   "cell_type": "code",
   "execution_count": 1,
   "id": "34e92301",
   "metadata": {},
   "outputs": [],
   "source": [
    "import numpy as np\n",
    "import matplotlib.pyplot as plt\n",
    "import pandas as pd\n",
    "import seaborn as sns\n",
    "import warnings\n",
    "warnings.filterwarnings('ignore')"
   ]
  },
  {
   "cell_type": "code",
   "execution_count": 2,
   "id": "dff48dc3",
   "metadata": {},
   "outputs": [
    {
     "data": {
      "text/html": [
       "<div>\n",
       "<style scoped>\n",
       "    .dataframe tbody tr th:only-of-type {\n",
       "        vertical-align: middle;\n",
       "    }\n",
       "\n",
       "    .dataframe tbody tr th {\n",
       "        vertical-align: top;\n",
       "    }\n",
       "\n",
       "    .dataframe thead th {\n",
       "        text-align: right;\n",
       "    }\n",
       "</style>\n",
       "<table border=\"1\" class=\"dataframe\">\n",
       "  <thead>\n",
       "    <tr style=\"text-align: right;\">\n",
       "      <th></th>\n",
       "      <th>Age</th>\n",
       "      <th>Sex</th>\n",
       "      <th>ChestPainType</th>\n",
       "      <th>RestingBP</th>\n",
       "      <th>Cholesterol</th>\n",
       "      <th>FastingBS</th>\n",
       "      <th>RestingECG</th>\n",
       "      <th>MaxHR</th>\n",
       "      <th>ExerciseAngina</th>\n",
       "      <th>Oldpeak</th>\n",
       "      <th>ST_Slope</th>\n",
       "      <th>HeartDisease</th>\n",
       "    </tr>\n",
       "  </thead>\n",
       "  <tbody>\n",
       "    <tr>\n",
       "      <th>0</th>\n",
       "      <td>40</td>\n",
       "      <td>M</td>\n",
       "      <td>ATA</td>\n",
       "      <td>140</td>\n",
       "      <td>289</td>\n",
       "      <td>0</td>\n",
       "      <td>Normal</td>\n",
       "      <td>172</td>\n",
       "      <td>N</td>\n",
       "      <td>0.0</td>\n",
       "      <td>Up</td>\n",
       "      <td>0</td>\n",
       "    </tr>\n",
       "    <tr>\n",
       "      <th>1</th>\n",
       "      <td>49</td>\n",
       "      <td>F</td>\n",
       "      <td>NAP</td>\n",
       "      <td>160</td>\n",
       "      <td>180</td>\n",
       "      <td>0</td>\n",
       "      <td>Normal</td>\n",
       "      <td>156</td>\n",
       "      <td>N</td>\n",
       "      <td>1.0</td>\n",
       "      <td>Flat</td>\n",
       "      <td>1</td>\n",
       "    </tr>\n",
       "    <tr>\n",
       "      <th>2</th>\n",
       "      <td>37</td>\n",
       "      <td>M</td>\n",
       "      <td>ATA</td>\n",
       "      <td>130</td>\n",
       "      <td>283</td>\n",
       "      <td>0</td>\n",
       "      <td>ST</td>\n",
       "      <td>98</td>\n",
       "      <td>N</td>\n",
       "      <td>0.0</td>\n",
       "      <td>Up</td>\n",
       "      <td>0</td>\n",
       "    </tr>\n",
       "    <tr>\n",
       "      <th>3</th>\n",
       "      <td>48</td>\n",
       "      <td>F</td>\n",
       "      <td>ASY</td>\n",
       "      <td>138</td>\n",
       "      <td>214</td>\n",
       "      <td>0</td>\n",
       "      <td>Normal</td>\n",
       "      <td>108</td>\n",
       "      <td>Y</td>\n",
       "      <td>1.5</td>\n",
       "      <td>Flat</td>\n",
       "      <td>1</td>\n",
       "    </tr>\n",
       "    <tr>\n",
       "      <th>4</th>\n",
       "      <td>54</td>\n",
       "      <td>M</td>\n",
       "      <td>NAP</td>\n",
       "      <td>150</td>\n",
       "      <td>195</td>\n",
       "      <td>0</td>\n",
       "      <td>Normal</td>\n",
       "      <td>122</td>\n",
       "      <td>N</td>\n",
       "      <td>0.0</td>\n",
       "      <td>Up</td>\n",
       "      <td>0</td>\n",
       "    </tr>\n",
       "  </tbody>\n",
       "</table>\n",
       "</div>"
      ],
      "text/plain": [
       "   Age Sex ChestPainType  RestingBP  Cholesterol  FastingBS RestingECG  MaxHR  \\\n",
       "0   40   M           ATA        140          289          0     Normal    172   \n",
       "1   49   F           NAP        160          180          0     Normal    156   \n",
       "2   37   M           ATA        130          283          0         ST     98   \n",
       "3   48   F           ASY        138          214          0     Normal    108   \n",
       "4   54   M           NAP        150          195          0     Normal    122   \n",
       "\n",
       "  ExerciseAngina  Oldpeak ST_Slope  HeartDisease  \n",
       "0              N      0.0       Up             0  \n",
       "1              N      1.0     Flat             1  \n",
       "2              N      0.0       Up             0  \n",
       "3              Y      1.5     Flat             1  \n",
       "4              N      0.0       Up             0  "
      ]
     },
     "execution_count": 2,
     "metadata": {},
     "output_type": "execute_result"
    }
   ],
   "source": [
    "#To load dataset heart.csv\n",
    "df=pd.read_csv(\"heart.csv\")\n",
    "#to display first 5 records\n",
    "df.head()"
   ]
  },
  {
   "cell_type": "code",
   "execution_count": 3,
   "id": "cc28823c",
   "metadata": {},
   "outputs": [
    {
     "data": {
      "text/html": [
       "<div>\n",
       "<style scoped>\n",
       "    .dataframe tbody tr th:only-of-type {\n",
       "        vertical-align: middle;\n",
       "    }\n",
       "\n",
       "    .dataframe tbody tr th {\n",
       "        vertical-align: top;\n",
       "    }\n",
       "\n",
       "    .dataframe thead th {\n",
       "        text-align: right;\n",
       "    }\n",
       "</style>\n",
       "<table border=\"1\" class=\"dataframe\">\n",
       "  <thead>\n",
       "    <tr style=\"text-align: right;\">\n",
       "      <th></th>\n",
       "      <th>Age</th>\n",
       "      <th>RestingBP</th>\n",
       "      <th>Cholesterol</th>\n",
       "      <th>FastingBS</th>\n",
       "      <th>MaxHR</th>\n",
       "      <th>Oldpeak</th>\n",
       "      <th>HeartDisease</th>\n",
       "    </tr>\n",
       "  </thead>\n",
       "  <tbody>\n",
       "    <tr>\n",
       "      <th>count</th>\n",
       "      <td>918.000000</td>\n",
       "      <td>918.000000</td>\n",
       "      <td>918.000000</td>\n",
       "      <td>918.000000</td>\n",
       "      <td>918.000000</td>\n",
       "      <td>918.000000</td>\n",
       "      <td>918.000000</td>\n",
       "    </tr>\n",
       "    <tr>\n",
       "      <th>mean</th>\n",
       "      <td>53.510893</td>\n",
       "      <td>132.396514</td>\n",
       "      <td>198.799564</td>\n",
       "      <td>0.233115</td>\n",
       "      <td>136.809368</td>\n",
       "      <td>0.887364</td>\n",
       "      <td>0.553377</td>\n",
       "    </tr>\n",
       "    <tr>\n",
       "      <th>std</th>\n",
       "      <td>9.432617</td>\n",
       "      <td>18.514154</td>\n",
       "      <td>109.384145</td>\n",
       "      <td>0.423046</td>\n",
       "      <td>25.460334</td>\n",
       "      <td>1.066570</td>\n",
       "      <td>0.497414</td>\n",
       "    </tr>\n",
       "    <tr>\n",
       "      <th>min</th>\n",
       "      <td>28.000000</td>\n",
       "      <td>0.000000</td>\n",
       "      <td>0.000000</td>\n",
       "      <td>0.000000</td>\n",
       "      <td>60.000000</td>\n",
       "      <td>-2.600000</td>\n",
       "      <td>0.000000</td>\n",
       "    </tr>\n",
       "    <tr>\n",
       "      <th>25%</th>\n",
       "      <td>47.000000</td>\n",
       "      <td>120.000000</td>\n",
       "      <td>173.250000</td>\n",
       "      <td>0.000000</td>\n",
       "      <td>120.000000</td>\n",
       "      <td>0.000000</td>\n",
       "      <td>0.000000</td>\n",
       "    </tr>\n",
       "    <tr>\n",
       "      <th>50%</th>\n",
       "      <td>54.000000</td>\n",
       "      <td>130.000000</td>\n",
       "      <td>223.000000</td>\n",
       "      <td>0.000000</td>\n",
       "      <td>138.000000</td>\n",
       "      <td>0.600000</td>\n",
       "      <td>1.000000</td>\n",
       "    </tr>\n",
       "    <tr>\n",
       "      <th>75%</th>\n",
       "      <td>60.000000</td>\n",
       "      <td>140.000000</td>\n",
       "      <td>267.000000</td>\n",
       "      <td>0.000000</td>\n",
       "      <td>156.000000</td>\n",
       "      <td>1.500000</td>\n",
       "      <td>1.000000</td>\n",
       "    </tr>\n",
       "    <tr>\n",
       "      <th>max</th>\n",
       "      <td>77.000000</td>\n",
       "      <td>200.000000</td>\n",
       "      <td>603.000000</td>\n",
       "      <td>1.000000</td>\n",
       "      <td>202.000000</td>\n",
       "      <td>6.200000</td>\n",
       "      <td>1.000000</td>\n",
       "    </tr>\n",
       "  </tbody>\n",
       "</table>\n",
       "</div>"
      ],
      "text/plain": [
       "              Age   RestingBP  Cholesterol   FastingBS       MaxHR  \\\n",
       "count  918.000000  918.000000   918.000000  918.000000  918.000000   \n",
       "mean    53.510893  132.396514   198.799564    0.233115  136.809368   \n",
       "std      9.432617   18.514154   109.384145    0.423046   25.460334   \n",
       "min     28.000000    0.000000     0.000000    0.000000   60.000000   \n",
       "25%     47.000000  120.000000   173.250000    0.000000  120.000000   \n",
       "50%     54.000000  130.000000   223.000000    0.000000  138.000000   \n",
       "75%     60.000000  140.000000   267.000000    0.000000  156.000000   \n",
       "max     77.000000  200.000000   603.000000    1.000000  202.000000   \n",
       "\n",
       "          Oldpeak  HeartDisease  \n",
       "count  918.000000    918.000000  \n",
       "mean     0.887364      0.553377  \n",
       "std      1.066570      0.497414  \n",
       "min     -2.600000      0.000000  \n",
       "25%      0.000000      0.000000  \n",
       "50%      0.600000      1.000000  \n",
       "75%      1.500000      1.000000  \n",
       "max      6.200000      1.000000  "
      ]
     },
     "execution_count": 3,
     "metadata": {},
     "output_type": "execute_result"
    }
   ],
   "source": [
    "df.describe()"
   ]
  },
  {
   "cell_type": "code",
   "execution_count": 4,
   "id": "3219f12f",
   "metadata": {},
   "outputs": [
    {
     "data": {
      "text/plain": [
       "Age               0\n",
       "Sex               0\n",
       "ChestPainType     0\n",
       "RestingBP         0\n",
       "Cholesterol       0\n",
       "FastingBS         0\n",
       "RestingECG        0\n",
       "MaxHR             0\n",
       "ExerciseAngina    0\n",
       "Oldpeak           0\n",
       "ST_Slope          0\n",
       "HeartDisease      0\n",
       "dtype: int64"
      ]
     },
     "execution_count": 4,
     "metadata": {},
     "output_type": "execute_result"
    }
   ],
   "source": [
    "#to check null values\n",
    "df.isnull().sum()"
   ]
  },
  {
   "cell_type": "code",
   "execution_count": 5,
   "id": "1636f706",
   "metadata": {},
   "outputs": [
    {
     "data": {
      "image/png": "[encoded data removed]",
      "text/plain": [
       "<Figure size 432x288 with 2 Axes>"
      ]
     },
     "metadata": {
      "needs_background": "light"
     },
     "output_type": "display_data"
    }
   ],
   "source": [
    "#visualize\n",
    "sns.heatmap(df.isnull())\n",
    "plt.show()"
   ]
  },
  {
   "cell_type": "code",
   "execution_count": 6,
   "id": "caeb50eb",
   "metadata": {},
   "outputs": [
    {
     "data": {
      "text/plain": [
       "Age                 int64\n",
       "Sex                object\n",
       "ChestPainType      object\n",
       "RestingBP           int64\n",
       "Cholesterol         int64\n",
       "FastingBS           int64\n",
       "RestingECG         object\n",
       "MaxHR               int64\n",
       "ExerciseAngina     object\n",
       "Oldpeak           float64\n",
       "ST_Slope           object\n",
       "HeartDisease        int64\n",
       "dtype: object"
      ]
     },
     "execution_count": 6,
     "metadata": {},
     "output_type": "execute_result"
    }
   ],
   "source": [
    "#to check datatypes\n",
    "df.dtypes"
   ]
  },
  {
   "cell_type": "code",
   "execution_count": 7,
   "id": "a557aad6",
   "metadata": {},
   "outputs": [
    {
     "data": {
      "text/plain": [
       "0"
      ]
     },
     "execution_count": 7,
     "metadata": {},
     "output_type": "execute_result"
    }
   ],
   "source": [
    "#to check duplicates\n",
    "df.duplicated().sum()"
   ]
  },
  {
   "cell_type": "code",
   "execution_count": 8,
   "id": "3e9affdb",
   "metadata": {},
   "outputs": [],
   "source": [
    "#split dataset heart into 2 part\n",
    "#first part hold all numeric type data\n",
    "#second part hold all object type data\n",
    "df_num=df.select_dtypes(['int64','float64'])\n",
    "df_cat=df.select_dtypes(object)"
   ]
  },
  {
   "cell_type": "code",
   "execution_count": 9,
   "id": "9424cb9a",
   "metadata": {},
   "outputs": [
    {
     "data": {
      "text/html": [
       "<div>\n",
       "<style scoped>\n",
       "    .dataframe tbody tr th:only-of-type {\n",
       "        vertical-align: middle;\n",
       "    }\n",
       "\n",
       "    .dataframe tbody tr th {\n",
       "        vertical-align: top;\n",
       "    }\n",
       "\n",
       "    .dataframe thead th {\n",
       "        text-align: right;\n",
       "    }\n",
       "</style>\n",
       "<table border=\"1\" class=\"dataframe\">\n",
       "  <thead>\n",
       "    <tr style=\"text-align: right;\">\n",
       "      <th></th>\n",
       "      <th>Age</th>\n",
       "      <th>RestingBP</th>\n",
       "      <th>Cholesterol</th>\n",
       "      <th>FastingBS</th>\n",
       "      <th>MaxHR</th>\n",
       "      <th>Oldpeak</th>\n",
       "      <th>HeartDisease</th>\n",
       "    </tr>\n",
       "  </thead>\n",
       "  <tbody>\n",
       "    <tr>\n",
       "      <th>0</th>\n",
       "      <td>40</td>\n",
       "      <td>140</td>\n",
       "      <td>289</td>\n",
       "      <td>0</td>\n",
       "      <td>172</td>\n",
       "      <td>0.0</td>\n",
       "      <td>0</td>\n",
       "    </tr>\n",
       "    <tr>\n",
       "      <th>1</th>\n",
       "      <td>49</td>\n",
       "      <td>160</td>\n",
       "      <td>180</td>\n",
       "      <td>0</td>\n",
       "      <td>156</td>\n",
       "      <td>1.0</td>\n",
       "      <td>1</td>\n",
       "    </tr>\n",
       "    <tr>\n",
       "      <th>2</th>\n",
       "      <td>37</td>\n",
       "      <td>130</td>\n",
       "      <td>283</td>\n",
       "      <td>0</td>\n",
       "      <td>98</td>\n",
       "      <td>0.0</td>\n",
       "      <td>0</td>\n",
       "    </tr>\n",
       "    <tr>\n",
       "      <th>3</th>\n",
       "      <td>48</td>\n",
       "      <td>138</td>\n",
       "      <td>214</td>\n",
       "      <td>0</td>\n",
       "      <td>108</td>\n",
       "      <td>1.5</td>\n",
       "      <td>1</td>\n",
       "    </tr>\n",
       "    <tr>\n",
       "      <th>4</th>\n",
       "      <td>54</td>\n",
       "      <td>150</td>\n",
       "      <td>195</td>\n",
       "      <td>0</td>\n",
       "      <td>122</td>\n",
       "      <td>0.0</td>\n",
       "      <td>0</td>\n",
       "    </tr>\n",
       "  </tbody>\n",
       "</table>\n",
       "</div>"
      ],
      "text/plain": [
       "   Age  RestingBP  Cholesterol  FastingBS  MaxHR  Oldpeak  HeartDisease\n",
       "0   40        140          289          0    172      0.0             0\n",
       "1   49        160          180          0    156      1.0             1\n",
       "2   37        130          283          0     98      0.0             0\n",
       "3   48        138          214          0    108      1.5             1\n",
       "4   54        150          195          0    122      0.0             0"
      ]
     },
     "execution_count": 9,
     "metadata": {},
     "output_type": "execute_result"
    }
   ],
   "source": [
    "df_num.head()"
   ]
  },
  {
   "cell_type": "code",
   "execution_count": 10,
   "id": "4ca05fb9",
   "metadata": {},
   "outputs": [
    {
     "data": {
      "text/html": [
       "<div>\n",
       "<style scoped>\n",
       "    .dataframe tbody tr th:only-of-type {\n",
       "        vertical-align: middle;\n",
       "    }\n",
       "\n",
       "    .dataframe tbody tr th {\n",
       "        vertical-align: top;\n",
       "    }\n",
       "\n",
       "    .dataframe thead th {\n",
       "        text-align: right;\n",
       "    }\n",
       "</style>\n",
       "<table border=\"1\" class=\"dataframe\">\n",
       "  <thead>\n",
       "    <tr style=\"text-align: right;\">\n",
       "      <th></th>\n",
       "      <th>Sex</th>\n",
       "      <th>ChestPainType</th>\n",
       "      <th>RestingECG</th>\n",
       "      <th>ExerciseAngina</th>\n",
       "      <th>ST_Slope</th>\n",
       "    </tr>\n",
       "  </thead>\n",
       "  <tbody>\n",
       "    <tr>\n",
       "      <th>0</th>\n",
       "      <td>M</td>\n",
       "      <td>ATA</td>\n",
       "      <td>Normal</td>\n",
       "      <td>N</td>\n",
       "      <td>Up</td>\n",
       "    </tr>\n",
       "    <tr>\n",
       "      <th>1</th>\n",
       "      <td>F</td>\n",
       "      <td>NAP</td>\n",
       "      <td>Normal</td>\n",
       "      <td>N</td>\n",
       "      <td>Flat</td>\n",
       "    </tr>\n",
       "    <tr>\n",
       "      <th>2</th>\n",
       "      <td>M</td>\n",
       "      <td>ATA</td>\n",
       "      <td>ST</td>\n",
       "      <td>N</td>\n",
       "      <td>Up</td>\n",
       "    </tr>\n",
       "    <tr>\n",
       "      <th>3</th>\n",
       "      <td>F</td>\n",
       "      <td>ASY</td>\n",
       "      <td>Normal</td>\n",
       "      <td>Y</td>\n",
       "      <td>Flat</td>\n",
       "    </tr>\n",
       "    <tr>\n",
       "      <th>4</th>\n",
       "      <td>M</td>\n",
       "      <td>NAP</td>\n",
       "      <td>Normal</td>\n",
       "      <td>N</td>\n",
       "      <td>Up</td>\n",
       "    </tr>\n",
       "  </tbody>\n",
       "</table>\n",
       "</div>"
      ],
      "text/plain": [
       "  Sex ChestPainType RestingECG ExerciseAngina ST_Slope\n",
       "0   M           ATA     Normal              N       Up\n",
       "1   F           NAP     Normal              N     Flat\n",
       "2   M           ATA         ST              N       Up\n",
       "3   F           ASY     Normal              Y     Flat\n",
       "4   M           NAP     Normal              N       Up"
      ]
     },
     "execution_count": 10,
     "metadata": {},
     "output_type": "execute_result"
    }
   ],
   "source": [
    "df_cat.head()"
   ]
  },
  {
   "cell_type": "code",
   "execution_count": 11,
   "id": "df55b9a6",
   "metadata": {},
   "outputs": [
    {
     "data": {
      "text/plain": [
       "Age               int64\n",
       "RestingBP         int64\n",
       "Cholesterol       int64\n",
       "FastingBS         int64\n",
       "MaxHR             int64\n",
       "Oldpeak         float64\n",
       "HeartDisease      int64\n",
       "dtype: object"
      ]
     },
     "execution_count": 11,
     "metadata": {},
     "output_type": "execute_result"
    }
   ],
   "source": [
    "df_num.dtypes"
   ]
  },
  {
   "cell_type": "code",
   "execution_count": 12,
   "id": "3070c1d1",
   "metadata": {},
   "outputs": [
    {
     "data": {
      "text/plain": [
       "Sex               object\n",
       "ChestPainType     object\n",
       "RestingECG        object\n",
       "ExerciseAngina    object\n",
       "ST_Slope          object\n",
       "dtype: object"
      ]
     },
     "execution_count": 12,
     "metadata": {},
     "output_type": "execute_result"
    }
   ],
   "source": [
    "df_cat.dtypes"
   ]
  },
  {
   "cell_type": "markdown",
   "id": "eb3fd58e",
   "metadata": {},
   "source": [
    "### using labelencoder to convert categorical data into mumerical data"
   ]
  },
  {
   "cell_type": "code",
   "execution_count": 13,
   "id": "4554c496",
   "metadata": {},
   "outputs": [],
   "source": [
    "from sklearn.preprocessing import LabelEncoder"
   ]
  },
  {
   "cell_type": "code",
   "execution_count": 14,
   "id": "a559e7c0",
   "metadata": {},
   "outputs": [
    {
     "data": {
      "text/plain": [
       "Index(['Sex', 'ChestPainType', 'RestingECG', 'ExerciseAngina', 'ST_Slope'], dtype='object')"
      ]
     },
     "execution_count": 14,
     "metadata": {},
     "output_type": "execute_result"
    }
   ],
   "source": [
    "columns=df_cat.columns\n",
    "columns"
   ]
  },
  {
   "cell_type": "code",
   "execution_count": 15,
   "id": "f5670a3f",
   "metadata": {},
   "outputs": [],
   "source": [
    "for col in columns:\n",
    "    #creating object of labelencoder\n",
    "    le=LabelEncoder()\n",
    "    df_cat[col]=le.fit_transform(df_cat[col])"
   ]
  },
  {
   "cell_type": "code",
   "execution_count": 16,
   "id": "3682bbf5",
   "metadata": {},
   "outputs": [
    {
     "data": {
      "text/html": [
       "<div>\n",
       "<style scoped>\n",
       "    .dataframe tbody tr th:only-of-type {\n",
       "        vertical-align: middle;\n",
       "    }\n",
       "\n",
       "    .dataframe tbody tr th {\n",
       "        vertical-align: top;\n",
       "    }\n",
       "\n",
       "    .dataframe thead th {\n",
       "        text-align: right;\n",
       "    }\n",
       "</style>\n",
       "<table border=\"1\" class=\"dataframe\">\n",
       "  <thead>\n",
       "    <tr style=\"text-align: right;\">\n",
       "      <th></th>\n",
       "      <th>Sex</th>\n",
       "      <th>ChestPainType</th>\n",
       "      <th>RestingECG</th>\n",
       "      <th>ExerciseAngina</th>\n",
       "      <th>ST_Slope</th>\n",
       "    </tr>\n",
       "  </thead>\n",
       "  <tbody>\n",
       "    <tr>\n",
       "      <th>0</th>\n",
       "      <td>1</td>\n",
       "      <td>1</td>\n",
       "      <td>1</td>\n",
       "      <td>0</td>\n",
       "      <td>2</td>\n",
       "    </tr>\n",
       "    <tr>\n",
       "      <th>1</th>\n",
       "      <td>0</td>\n",
       "      <td>2</td>\n",
       "      <td>1</td>\n",
       "      <td>0</td>\n",
       "      <td>1</td>\n",
       "    </tr>\n",
       "    <tr>\n",
       "      <th>2</th>\n",
       "      <td>1</td>\n",
       "      <td>1</td>\n",
       "      <td>2</td>\n",
       "      <td>0</td>\n",
       "      <td>2</td>\n",
       "    </tr>\n",
       "    <tr>\n",
       "      <th>3</th>\n",
       "      <td>0</td>\n",
       "      <td>0</td>\n",
       "      <td>1</td>\n",
       "      <td>1</td>\n",
       "      <td>1</td>\n",
       "    </tr>\n",
       "    <tr>\n",
       "      <th>4</th>\n",
       "      <td>1</td>\n",
       "      <td>2</td>\n",
       "      <td>1</td>\n",
       "      <td>0</td>\n",
       "      <td>2</td>\n",
       "    </tr>\n",
       "  </tbody>\n",
       "</table>\n",
       "</div>"
      ],
      "text/plain": [
       "   Sex  ChestPainType  RestingECG  ExerciseAngina  ST_Slope\n",
       "0    1              1           1               0         2\n",
       "1    0              2           1               0         1\n",
       "2    1              1           2               0         2\n",
       "3    0              0           1               1         1\n",
       "4    1              2           1               0         2"
      ]
     },
     "execution_count": 16,
     "metadata": {},
     "output_type": "execute_result"
    }
   ],
   "source": [
    "df_cat.head()"
   ]
  },
  {
   "cell_type": "markdown",
   "id": "9bdc8d86",
   "metadata": {},
   "source": [
    "### now concatenate both cols"
   ]
  },
  {
   "cell_type": "code",
   "execution_count": 17,
   "id": "0a0cf91a",
   "metadata": {},
   "outputs": [
    {
     "data": {
      "text/html": [
       "<div>\n",
       "<style scoped>\n",
       "    .dataframe tbody tr th:only-of-type {\n",
       "        vertical-align: middle;\n",
       "    }\n",
       "\n",
       "    .dataframe tbody tr th {\n",
       "        vertical-align: top;\n",
       "    }\n",
       "\n",
       "    .dataframe thead th {\n",
       "        text-align: right;\n",
       "    }\n",
       "</style>\n",
       "<table border=\"1\" class=\"dataframe\">\n",
       "  <thead>\n",
       "    <tr style=\"text-align: right;\">\n",
       "      <th></th>\n",
       "      <th>Age</th>\n",
       "      <th>RestingBP</th>\n",
       "      <th>Cholesterol</th>\n",
       "      <th>FastingBS</th>\n",
       "      <th>MaxHR</th>\n",
       "      <th>Oldpeak</th>\n",
       "      <th>HeartDisease</th>\n",
       "      <th>Sex</th>\n",
       "      <th>ChestPainType</th>\n",
       "      <th>RestingECG</th>\n",
       "      <th>ExerciseAngina</th>\n",
       "      <th>ST_Slope</th>\n",
       "    </tr>\n",
       "  </thead>\n",
       "  <tbody>\n",
       "    <tr>\n",
       "      <th>0</th>\n",
       "      <td>40</td>\n",
       "      <td>140</td>\n",
       "      <td>289</td>\n",
       "      <td>0</td>\n",
       "      <td>172</td>\n",
       "      <td>0.0</td>\n",
       "      <td>0</td>\n",
       "      <td>1</td>\n",
       "      <td>1</td>\n",
       "      <td>1</td>\n",
       "      <td>0</td>\n",
       "      <td>2</td>\n",
       "    </tr>\n",
       "    <tr>\n",
       "      <th>1</th>\n",
       "      <td>49</td>\n",
       "      <td>160</td>\n",
       "      <td>180</td>\n",
       "      <td>0</td>\n",
       "      <td>156</td>\n",
       "      <td>1.0</td>\n",
       "      <td>1</td>\n",
       "      <td>0</td>\n",
       "      <td>2</td>\n",
       "      <td>1</td>\n",
       "      <td>0</td>\n",
       "      <td>1</td>\n",
       "    </tr>\n",
       "    <tr>\n",
       "      <th>2</th>\n",
       "      <td>37</td>\n",
       "      <td>130</td>\n",
       "      <td>283</td>\n",
       "      <td>0</td>\n",
       "      <td>98</td>\n",
       "      <td>0.0</td>\n",
       "      <td>0</td>\n",
       "      <td>1</td>\n",
       "      <td>1</td>\n",
       "      <td>2</td>\n",
       "      <td>0</td>\n",
       "      <td>2</td>\n",
       "    </tr>\n",
       "    <tr>\n",
       "      <th>3</th>\n",
       "      <td>48</td>\n",
       "      <td>138</td>\n",
       "      <td>214</td>\n",
       "      <td>0</td>\n",
       "      <td>108</td>\n",
       "      <td>1.5</td>\n",
       "      <td>1</td>\n",
       "      <td>0</td>\n",
       "      <td>0</td>\n",
       "      <td>1</td>\n",
       "      <td>1</td>\n",
       "      <td>1</td>\n",
       "    </tr>\n",
       "    <tr>\n",
       "      <th>4</th>\n",
       "      <td>54</td>\n",
       "      <td>150</td>\n",
       "      <td>195</td>\n",
       "      <td>0</td>\n",
       "      <td>122</td>\n",
       "      <td>0.0</td>\n",
       "      <td>0</td>\n",
       "      <td>1</td>\n",
       "      <td>2</td>\n",
       "      <td>1</td>\n",
       "      <td>0</td>\n",
       "      <td>2</td>\n",
       "    </tr>\n",
       "  </tbody>\n",
       "</table>\n",
       "</div>"
      ],
      "text/plain": [
       "   Age  RestingBP  Cholesterol  FastingBS  MaxHR  Oldpeak  HeartDisease  Sex  \\\n",
       "0   40        140          289          0    172      0.0             0    1   \n",
       "1   49        160          180          0    156      1.0             1    0   \n",
       "2   37        130          283          0     98      0.0             0    1   \n",
       "3   48        138          214          0    108      1.5             1    0   \n",
       "4   54        150          195          0    122      0.0             0    1   \n",
       "\n",
       "   ChestPainType  RestingECG  ExerciseAngina  ST_Slope  \n",
       "0              1           1               0         2  \n",
       "1              2           1               0         1  \n",
       "2              1           2               0         2  \n",
       "3              0           1               1         1  \n",
       "4              2           1               0         2  "
      ]
     },
     "execution_count": 17,
     "metadata": {},
     "output_type": "execute_result"
    }
   ],
   "source": [
    "df_new=pd.concat([df_num,df_cat],axis=1)\n",
    "df_new.head()"
   ]
  },
  {
   "cell_type": "code",
   "execution_count": 18,
   "id": "6d110e63",
   "metadata": {},
   "outputs": [
    {
     "data": {
      "text/plain": [
       "0"
      ]
     },
     "execution_count": 18,
     "metadata": {},
     "output_type": "execute_result"
    }
   ],
   "source": [
    "df_new.duplicated().sum()"
   ]
  },
  {
   "cell_type": "code",
   "execution_count": 19,
   "id": "88457de7",
   "metadata": {},
   "outputs": [
    {
     "data": {
      "text/plain": [
       "Age                 int64\n",
       "RestingBP           int64\n",
       "Cholesterol         int64\n",
       "FastingBS           int64\n",
       "MaxHR               int64\n",
       "Oldpeak           float64\n",
       "HeartDisease        int64\n",
       "Sex                 int32\n",
       "ChestPainType       int32\n",
       "RestingECG          int32\n",
       "ExerciseAngina      int32\n",
       "ST_Slope            int32\n",
       "dtype: object"
      ]
     },
     "execution_count": 19,
     "metadata": {},
     "output_type": "execute_result"
    }
   ],
   "source": [
    "df_new.dtypes"
   ]
  },
  {
   "cell_type": "markdown",
   "id": "75ab6491",
   "metadata": {},
   "source": [
    "### selecting input & output"
   ]
  },
  {
   "cell_type": "code",
   "execution_count": 20,
   "id": "8d52c2a9",
   "metadata": {},
   "outputs": [],
   "source": [
    "X=df_new.drop('HeartDisease',axis=1)\n",
    "Y=df_new['HeartDisease']"
   ]
  },
  {
   "cell_type": "code",
   "execution_count": 21,
   "id": "e5bce2fb",
   "metadata": {},
   "outputs": [
    {
     "data": {
      "text/html": [
       "<div>\n",
       "<style scoped>\n",
       "    .dataframe tbody tr th:only-of-type {\n",
       "        vertical-align: middle;\n",
       "    }\n",
       "\n",
       "    .dataframe tbody tr th {\n",
       "        vertical-align: top;\n",
       "    }\n",
       "\n",
       "    .dataframe thead th {\n",
       "        text-align: right;\n",
       "    }\n",
       "</style>\n",
       "<table border=\"1\" class=\"dataframe\">\n",
       "  <thead>\n",
       "    <tr style=\"text-align: right;\">\n",
       "      <th></th>\n",
       "      <th>Age</th>\n",
       "      <th>RestingBP</th>\n",
       "      <th>Cholesterol</th>\n",
       "      <th>FastingBS</th>\n",
       "      <th>MaxHR</th>\n",
       "      <th>Oldpeak</th>\n",
       "      <th>Sex</th>\n",
       "      <th>ChestPainType</th>\n",
       "      <th>RestingECG</th>\n",
       "      <th>ExerciseAngina</th>\n",
       "      <th>ST_Slope</th>\n",
       "    </tr>\n",
       "  </thead>\n",
       "  <tbody>\n",
       "    <tr>\n",
       "      <th>0</th>\n",
       "      <td>40</td>\n",
       "      <td>140</td>\n",
       "      <td>289</td>\n",
       "      <td>0</td>\n",
       "      <td>172</td>\n",
       "      <td>0.0</td>\n",
       "      <td>1</td>\n",
       "      <td>1</td>\n",
       "      <td>1</td>\n",
       "      <td>0</td>\n",
       "      <td>2</td>\n",
       "    </tr>\n",
       "    <tr>\n",
       "      <th>1</th>\n",
       "      <td>49</td>\n",
       "      <td>160</td>\n",
       "      <td>180</td>\n",
       "      <td>0</td>\n",
       "      <td>156</td>\n",
       "      <td>1.0</td>\n",
       "      <td>0</td>\n",
       "      <td>2</td>\n",
       "      <td>1</td>\n",
       "      <td>0</td>\n",
       "      <td>1</td>\n",
       "    </tr>\n",
       "    <tr>\n",
       "      <th>2</th>\n",
       "      <td>37</td>\n",
       "      <td>130</td>\n",
       "      <td>283</td>\n",
       "      <td>0</td>\n",
       "      <td>98</td>\n",
       "      <td>0.0</td>\n",
       "      <td>1</td>\n",
       "      <td>1</td>\n",
       "      <td>2</td>\n",
       "      <td>0</td>\n",
       "      <td>2</td>\n",
       "    </tr>\n",
       "    <tr>\n",
       "      <th>3</th>\n",
       "      <td>48</td>\n",
       "      <td>138</td>\n",
       "      <td>214</td>\n",
       "      <td>0</td>\n",
       "      <td>108</td>\n",
       "      <td>1.5</td>\n",
       "      <td>0</td>\n",
       "      <td>0</td>\n",
       "      <td>1</td>\n",
       "      <td>1</td>\n",
       "      <td>1</td>\n",
       "    </tr>\n",
       "    <tr>\n",
       "      <th>4</th>\n",
       "      <td>54</td>\n",
       "      <td>150</td>\n",
       "      <td>195</td>\n",
       "      <td>0</td>\n",
       "      <td>122</td>\n",
       "      <td>0.0</td>\n",
       "      <td>1</td>\n",
       "      <td>2</td>\n",
       "      <td>1</td>\n",
       "      <td>0</td>\n",
       "      <td>2</td>\n",
       "    </tr>\n",
       "  </tbody>\n",
       "</table>\n",
       "</div>"
      ],
      "text/plain": [
       "   Age  RestingBP  Cholesterol  FastingBS  MaxHR  Oldpeak  Sex  ChestPainType  \\\n",
       "0   40        140          289          0    172      0.0    1              1   \n",
       "1   49        160          180          0    156      1.0    0              2   \n",
       "2   37        130          283          0     98      0.0    1              1   \n",
       "3   48        138          214          0    108      1.5    0              0   \n",
       "4   54        150          195          0    122      0.0    1              2   \n",
       "\n",
       "   RestingECG  ExerciseAngina  ST_Slope  \n",
       "0           1               0         2  \n",
       "1           1               0         1  \n",
       "2           2               0         2  \n",
       "3           1               1         1  \n",
       "4           1               0         2  "
      ]
     },
     "execution_count": 21,
     "metadata": {},
     "output_type": "execute_result"
    }
   ],
   "source": [
    "X.head()"
   ]
  },
  {
   "cell_type": "code",
   "execution_count": 22,
   "id": "3ea8f423",
   "metadata": {},
   "outputs": [
    {
     "data": {
      "text/plain": [
       "1    508\n",
       "0    410\n",
       "Name: HeartDisease, dtype: int64"
      ]
     },
     "execution_count": 22,
     "metadata": {},
     "output_type": "execute_result"
    }
   ],
   "source": [
    "Y.value_counts()"
   ]
  },
  {
   "cell_type": "markdown",
   "id": "37119bf8",
   "metadata": {},
   "source": [
    "### train_test_split"
   ]
  },
  {
   "cell_type": "code",
   "execution_count": 23,
   "id": "c78c6be0",
   "metadata": {},
   "outputs": [],
   "source": [
    "from sklearn.model_selection import train_test_split"
   ]
  },
  {
   "cell_type": "code",
   "execution_count": 24,
   "id": "4d5f68f3",
   "metadata": {},
   "outputs": [],
   "source": [
    "X_train,X_test,Y_train,Y_test=train_test_split(X,Y,test_size=0.3,random_state=1)"
   ]
  },
  {
   "cell_type": "markdown",
   "id": "a6256179",
   "metadata": {},
   "source": [
    "### standardising"
   ]
  },
  {
   "cell_type": "code",
   "execution_count": 25,
   "id": "ce1a83f7",
   "metadata": {},
   "outputs": [],
   "source": [
    "from sklearn.preprocessing import StandardScaler\n",
    "#create object of StandardScaler\n",
    "ss=StandardScaler()\n",
    "X_train=ss.fit_transform(X_train)\n",
    "X_test=ss.transform(X_test)"
   ]
  },
  {
   "cell_type": "markdown",
   "id": "2c65e021",
   "metadata": {},
   "source": [
    "### creating function"
   ]
  },
  {
   "cell_type": "code",
   "execution_count": 26,
   "id": "131d71c6",
   "metadata": {},
   "outputs": [],
   "source": [
    "from sklearn.metrics import classification_report\n",
    "from sklearn.metrics import confusion_matrix"
   ]
  },
  {
   "cell_type": "code",
   "execution_count": 27,
   "id": "e69b165b",
   "metadata": {},
   "outputs": [],
   "source": [
    "def create_model(model):\n",
    "    model.fit(X_train,Y_train)  #for training the model\n",
    "    Y_pred=model.predict(X_test)  #for testing the model\n",
    "    print(classification_report(Y_test,Y_pred))\n",
    "    print(confusion_matrix(Y_test,Y_pred))\n",
    "    "
   ]
  },
  {
   "cell_type": "markdown",
   "id": "aea5f85a",
   "metadata": {},
   "source": [
    "### perform logistics"
   ]
  },
  {
   "cell_type": "code",
   "execution_count": 28,
   "id": "1b01bc03",
   "metadata": {},
   "outputs": [
    {
     "name": "stdout",
     "output_type": "stream",
     "text": [
      "              precision    recall  f1-score   support\n",
      "\n",
      "           0       0.80      0.88      0.84       109\n",
      "           1       0.92      0.86      0.89       167\n",
      "\n",
      "    accuracy                           0.87       276\n",
      "   macro avg       0.86      0.87      0.86       276\n",
      "weighted avg       0.87      0.87      0.87       276\n",
      "\n",
      "[[ 96  13]\n",
      " [ 24 143]]\n"
     ]
    }
   ],
   "source": [
    "from sklearn.linear_model import LogisticRegression\n",
    "#create object of LogisticRegression\n",
    "lr=LogisticRegression()\n",
    "lr=create_model(lr)"
   ]
  },
  {
   "cell_type": "markdown",
   "id": "243446e6",
   "metadata": {},
   "source": [
    "### perform decision tree"
   ]
  },
  {
   "cell_type": "code",
   "execution_count": 32,
   "id": "a5b7b281",
   "metadata": {},
   "outputs": [
    {
     "name": "stdout",
     "output_type": "stream",
     "text": [
      "              precision    recall  f1-score   support\n",
      "\n",
      "           0       0.64      0.79      0.71       109\n",
      "           1       0.84      0.71      0.77       167\n",
      "\n",
      "    accuracy                           0.74       276\n",
      "   macro avg       0.74      0.75      0.74       276\n",
      "weighted avg       0.76      0.74      0.75       276\n",
      "\n",
      "[[ 86  23]\n",
      " [ 48 119]]\n"
     ]
    }
   ],
   "source": [
    "from sklearn.tree import DecisionTreeClassifier\n",
    "#create object of DecisionTreeClassifier\n",
    "dt=DecisionTreeClassifier()\n",
    "dt=create_model(dt)"
   ]
  },
  {
   "cell_type": "raw",
   "id": "3abe2f5f",
   "metadata": {},
   "source": [
    "#show the information gain of allinpit feature\n",
    "IG=dt.feature_importances_ #featuee importance inbuilt method of Decisiom Tre classfifer\n",
    "\n",
    "print('information Gain :',IG)"
   ]
  },
  {
   "cell_type": "raw",
   "id": "684cf997",
   "metadata": {},
   "source": [
    "#create dictionary\n",
    "dict={'input':X.columns,'IG':IG}\n",
    "df1=pd.DataFrame(dict)\n",
    "df1\n",
    "df1.sort_values('IG',ascending=False )#descending order according to iG"
   ]
  },
  {
   "cell_type": "raw",
   "id": "0fdb6f1c",
   "metadata": {},
   "source": [
    "#create the tree \n",
    "from sklearn import tree\n",
    "features=X.columns #input features\n",
    "fig=plt.figure(figsize=(30,30))\n",
    "_=tree.plot_tree(dt,feature_names=features,filled=True)"
   ]
  },
  {
   "cell_type": "markdown",
   "id": "acff0290",
   "metadata": {},
   "source": [
    "### perform  decision tree with pruning technique"
   ]
  },
  {
   "cell_type": "code",
   "execution_count": 42,
   "id": "ce1f5272",
   "metadata": {},
   "outputs": [
    {
     "name": "stdout",
     "output_type": "stream",
     "text": [
      "              precision    recall  f1-score   support\n",
      "\n",
      "           0       0.80      0.88      0.84       109\n",
      "           1       0.92      0.86      0.89       167\n",
      "\n",
      "    accuracy                           0.87       276\n",
      "   macro avg       0.86      0.87      0.86       276\n",
      "weighted avg       0.87      0.87      0.87       276\n",
      "\n",
      "[[ 96  13]\n",
      " [ 24 143]]\n"
     ]
    }
   ],
   "source": [
    "from sklearn.tree import DecisionTreeClassifier\n",
    "#create object of DecisionTreeClassifier\n",
    "dt1=DecisionTreeClassifier(random_state=1,max_depth=4)  #bydefault ginny index\n",
    "dt1=create_model(dt1)"
   ]
  },
  {
   "cell_type": "code",
   "execution_count": 49,
   "id": "cfb92ff0",
   "metadata": {},
   "outputs": [
    {
     "name": "stdout",
     "output_type": "stream",
     "text": [
      "              precision    recall  f1-score   support\n",
      "\n",
      "           0       0.80      0.89      0.84       109\n",
      "           1       0.92      0.86      0.89       167\n",
      "\n",
      "    accuracy                           0.87       276\n",
      "   macro avg       0.86      0.87      0.87       276\n",
      "weighted avg       0.87      0.87      0.87       276\n",
      "\n",
      "[[ 97  12]\n",
      " [ 24 143]]\n"
     ]
    }
   ],
   "source": [
    "from sklearn.tree import DecisionTreeClassifier\n",
    "#create object of DecisionTreeClassifier\n",
    "dt2=DecisionTreeClassifier(random_state=1,max_depth=4,criterion='entropy')  #bydefault ginny index\n",
    "dt2=create_model(dt2)"
   ]
  },
  {
   "cell_type": "markdown",
   "id": "d49b3fe4",
   "metadata": {},
   "source": [
    "### perform decision tree using 2nd pruning technique"
   ]
  },
  {
   "cell_type": "code",
   "execution_count": 53,
   "id": "df2defaa",
   "metadata": {},
   "outputs": [
    {
     "name": "stdout",
     "output_type": "stream",
     "text": [
      "              precision    recall  f1-score   support\n",
      "\n",
      "           0       0.86      0.72      0.78       109\n",
      "           1       0.83      0.92      0.88       167\n",
      "\n",
      "    accuracy                           0.84       276\n",
      "   macro avg       0.84      0.82      0.83       276\n",
      "weighted avg       0.84      0.84      0.84       276\n",
      "\n",
      "[[ 78  31]\n",
      " [ 13 154]]\n"
     ]
    }
   ],
   "source": [
    "#2nd purning technique : min_samples_leaf\n",
    "#min_samples_leaf =45 or more means not less than=45\n",
    "##create object of DecisionTreeClassifier class\n",
    "#leaf node means no child\n",
    "\n",
    "#for i in range(45,101,5):\n",
    "    #print(\"min sample leaf: \",i)\n",
    "dt3=DecisionTreeClassifier(random_state=1,min_samples_leaf=45)  #ginny index\n",
    "#call function\n",
    "dt3=create_model(dt3)"
   ]
  },
  {
   "cell_type": "code",
   "execution_count": 55,
   "id": "e09ea350",
   "metadata": {},
   "outputs": [
    {
     "name": "stdout",
     "output_type": "stream",
     "text": [
      "              precision    recall  f1-score   support\n",
      "\n",
      "           0       0.86      0.72      0.78       109\n",
      "           1       0.83      0.92      0.88       167\n",
      "\n",
      "    accuracy                           0.84       276\n",
      "   macro avg       0.84      0.82      0.83       276\n",
      "weighted avg       0.84      0.84      0.84       276\n",
      "\n",
      "[[ 78  31]\n",
      " [ 13 154]]\n"
     ]
    }
   ],
   "source": [
    "#for i in range(45,101,5):\n",
    "    #print(\"min sample leaf: \",i)\n",
    "dt3=DecisionTreeClassifier(random_state=1,min_samples_leaf=45,criterion='entropy')  #entropy\n",
    "#call function\n",
    "dt3=create_model(dt3)"
   ]
  },
  {
   "cell_type": "markdown",
   "id": "5235461c",
   "metadata": {},
   "source": [
    "### ensambling technique:"
   ]
  },
  {
   "cell_type": "markdown",
   "id": "d33cc22b",
   "metadata": {},
   "source": [
    "### random forest"
   ]
  },
  {
   "cell_type": "code",
   "execution_count": 56,
   "id": "494eabfe",
   "metadata": {},
   "outputs": [
    {
     "data": {
      "text/plain": [
       "(918, 11)"
      ]
     },
     "execution_count": 56,
     "metadata": {},
     "output_type": "execute_result"
    }
   ],
   "source": [
    "X.shape"
   ]
  },
  {
   "cell_type": "code",
   "execution_count": 57,
   "id": "1cfe4b87",
   "metadata": {},
   "outputs": [],
   "source": [
    "from sklearn.ensemble import RandomForestClassifier"
   ]
  },
  {
   "cell_type": "code",
   "execution_count": 60,
   "id": "9c58bff5",
   "metadata": {},
   "outputs": [
    {
     "name": "stdout",
     "output_type": "stream",
     "text": [
      "NO of Dicision Tree :  45\n",
      "              precision    recall  f1-score   support\n",
      "\n",
      "           0       0.75      0.85      0.80       109\n",
      "           1       0.89      0.81      0.85       167\n",
      "\n",
      "    accuracy                           0.83       276\n",
      "   macro avg       0.82      0.83      0.83       276\n",
      "weighted avg       0.84      0.83      0.83       276\n",
      "\n",
      "[[ 93  16]\n",
      " [ 31 136]]\n",
      "NO of Dicision Tree :  50\n",
      "              precision    recall  f1-score   support\n",
      "\n",
      "           0       0.74      0.84      0.79       109\n",
      "           1       0.89      0.80      0.84       167\n",
      "\n",
      "    accuracy                           0.82       276\n",
      "   macro avg       0.81      0.82      0.81       276\n",
      "weighted avg       0.83      0.82      0.82       276\n",
      "\n",
      "[[ 92  17]\n",
      " [ 33 134]]\n",
      "NO of Dicision Tree :  55\n",
      "              precision    recall  f1-score   support\n",
      "\n",
      "           0       0.75      0.83      0.79       109\n",
      "           1       0.88      0.81      0.85       167\n",
      "\n",
      "    accuracy                           0.82       276\n",
      "   macro avg       0.81      0.82      0.82       276\n",
      "weighted avg       0.83      0.82      0.82       276\n",
      "\n",
      "[[ 91  18]\n",
      " [ 31 136]]\n",
      "NO of Dicision Tree :  60\n",
      "              precision    recall  f1-score   support\n",
      "\n",
      "           0       0.75      0.84      0.79       109\n",
      "           1       0.89      0.81      0.85       167\n",
      "\n",
      "    accuracy                           0.83       276\n",
      "   macro avg       0.82      0.83      0.82       276\n",
      "weighted avg       0.83      0.83      0.83       276\n",
      "\n",
      "[[ 92  17]\n",
      " [ 31 136]]\n",
      "NO of Dicision Tree :  65\n",
      "              precision    recall  f1-score   support\n",
      "\n",
      "           0       0.77      0.84      0.80       109\n",
      "           1       0.89      0.83      0.86       167\n",
      "\n",
      "    accuracy                           0.84       276\n",
      "   macro avg       0.83      0.84      0.83       276\n",
      "weighted avg       0.84      0.84      0.84       276\n",
      "\n",
      "[[ 92  17]\n",
      " [ 28 139]]\n",
      "NO of Dicision Tree :  70\n",
      "              precision    recall  f1-score   support\n",
      "\n",
      "           0       0.77      0.84      0.81       109\n",
      "           1       0.89      0.84      0.86       167\n",
      "\n",
      "    accuracy                           0.84       276\n",
      "   macro avg       0.83      0.84      0.84       276\n",
      "weighted avg       0.84      0.84      0.84       276\n",
      "\n",
      "[[ 92  17]\n",
      " [ 27 140]]\n",
      "NO of Dicision Tree :  75\n",
      "              precision    recall  f1-score   support\n",
      "\n",
      "           0       0.77      0.84      0.81       109\n",
      "           1       0.89      0.84      0.86       167\n",
      "\n",
      "    accuracy                           0.84       276\n",
      "   macro avg       0.83      0.84      0.84       276\n",
      "weighted avg       0.84      0.84      0.84       276\n",
      "\n",
      "[[ 92  17]\n",
      " [ 27 140]]\n",
      "NO of Dicision Tree :  80\n",
      "              precision    recall  f1-score   support\n",
      "\n",
      "           0       0.77      0.85      0.81       109\n",
      "           1       0.90      0.83      0.86       167\n",
      "\n",
      "    accuracy                           0.84       276\n",
      "   macro avg       0.83      0.84      0.84       276\n",
      "weighted avg       0.85      0.84      0.84       276\n",
      "\n",
      "[[ 93  16]\n",
      " [ 28 139]]\n",
      "NO of Dicision Tree :  85\n",
      "              precision    recall  f1-score   support\n",
      "\n",
      "           0       0.77      0.84      0.81       109\n",
      "           1       0.89      0.84      0.86       167\n",
      "\n",
      "    accuracy                           0.84       276\n",
      "   macro avg       0.83      0.84      0.84       276\n",
      "weighted avg       0.84      0.84      0.84       276\n",
      "\n",
      "[[ 92  17]\n",
      " [ 27 140]]\n",
      "NO of Dicision Tree :  90\n",
      "              precision    recall  f1-score   support\n",
      "\n",
      "           0       0.78      0.85      0.81       109\n",
      "           1       0.90      0.84      0.87       167\n",
      "\n",
      "    accuracy                           0.84       276\n",
      "   macro avg       0.84      0.85      0.84       276\n",
      "weighted avg       0.85      0.84      0.85       276\n",
      "\n",
      "[[ 93  16]\n",
      " [ 27 140]]\n",
      "NO of Dicision Tree :  95\n",
      "              precision    recall  f1-score   support\n",
      "\n",
      "           0       0.79      0.85      0.82       109\n",
      "           1       0.90      0.85      0.87       167\n",
      "\n",
      "    accuracy                           0.85       276\n",
      "   macro avg       0.84      0.85      0.85       276\n",
      "weighted avg       0.86      0.85      0.85       276\n",
      "\n",
      "[[ 93  16]\n",
      " [ 25 142]]\n",
      "NO of Dicision Tree :  100\n",
      "              precision    recall  f1-score   support\n",
      "\n",
      "           0       0.78      0.85      0.82       109\n",
      "           1       0.90      0.84      0.87       167\n",
      "\n",
      "    accuracy                           0.85       276\n",
      "   macro avg       0.84      0.85      0.84       276\n",
      "weighted avg       0.85      0.85      0.85       276\n",
      "\n",
      "[[ 93  16]\n",
      " [ 26 141]]\n"
     ]
    }
   ],
   "source": [
    "#create  object of Random forest Tree \n",
    "for i in range(45,101,5):\n",
    "    rfc=RandomForestClassifier(n_estimators=i,max_features=10,random_state=1)\n",
    "    #bydefault gini\n",
    "    #call the function\n",
    "    print(\"NO of Dicision Tree : \",i)\n",
    "    rfc=create_model(rfc)\n",
    "    #here n_estimators means take how many no. of decisiontree \n",
    "#max_features means take how many input"
   ]
  },
  {
   "cell_type": "code",
   "execution_count": 62,
   "id": "0482a355",
   "metadata": {},
   "outputs": [
    {
     "name": "stdout",
     "output_type": "stream",
     "text": [
      "NO of Dicision Tree :  45\n",
      "              precision    recall  f1-score   support\n",
      "\n",
      "           0       0.81      0.84      0.83       109\n",
      "           1       0.90      0.87      0.88       167\n",
      "\n",
      "    accuracy                           0.86       276\n",
      "   macro avg       0.85      0.86      0.85       276\n",
      "weighted avg       0.86      0.86      0.86       276\n",
      "\n",
      "[[ 92  17]\n",
      " [ 22 145]]\n",
      "NO of Dicision Tree :  50\n",
      "              precision    recall  f1-score   support\n",
      "\n",
      "           0       0.80      0.84      0.82       109\n",
      "           1       0.89      0.86      0.88       167\n",
      "\n",
      "    accuracy                           0.86       276\n",
      "   macro avg       0.85      0.85      0.85       276\n",
      "weighted avg       0.86      0.86      0.86       276\n",
      "\n",
      "[[ 92  17]\n",
      " [ 23 144]]\n",
      "NO of Dicision Tree :  55\n",
      "              precision    recall  f1-score   support\n",
      "\n",
      "           0       0.81      0.84      0.83       109\n",
      "           1       0.90      0.87      0.88       167\n",
      "\n",
      "    accuracy                           0.86       276\n",
      "   macro avg       0.85      0.86      0.85       276\n",
      "weighted avg       0.86      0.86      0.86       276\n",
      "\n",
      "[[ 92  17]\n",
      " [ 22 145]]\n",
      "NO of Dicision Tree :  60\n",
      "              precision    recall  f1-score   support\n",
      "\n",
      "           0       0.81      0.84      0.83       109\n",
      "           1       0.90      0.87      0.88       167\n",
      "\n",
      "    accuracy                           0.86       276\n",
      "   macro avg       0.85      0.86      0.86       276\n",
      "weighted avg       0.86      0.86      0.86       276\n",
      "\n",
      "[[ 92  17]\n",
      " [ 21 146]]\n",
      "NO of Dicision Tree :  65\n",
      "              precision    recall  f1-score   support\n",
      "\n",
      "           0       0.82      0.84      0.83       109\n",
      "           1       0.90      0.88      0.89       167\n",
      "\n",
      "    accuracy                           0.87       276\n",
      "   macro avg       0.86      0.86      0.86       276\n",
      "weighted avg       0.87      0.87      0.87       276\n",
      "\n",
      "[[ 92  17]\n",
      " [ 20 147]]\n",
      "NO of Dicision Tree :  70\n",
      "              precision    recall  f1-score   support\n",
      "\n",
      "           0       0.82      0.84      0.83       109\n",
      "           1       0.90      0.88      0.89       167\n",
      "\n",
      "    accuracy                           0.87       276\n",
      "   macro avg       0.86      0.86      0.86       276\n",
      "weighted avg       0.87      0.87      0.87       276\n",
      "\n",
      "[[ 92  17]\n",
      " [ 20 147]]\n",
      "NO of Dicision Tree :  75\n",
      "              precision    recall  f1-score   support\n",
      "\n",
      "           0       0.82      0.85      0.84       109\n",
      "           1       0.90      0.88      0.89       167\n",
      "\n",
      "    accuracy                           0.87       276\n",
      "   macro avg       0.86      0.87      0.86       276\n",
      "weighted avg       0.87      0.87      0.87       276\n",
      "\n",
      "[[ 93  16]\n",
      " [ 20 147]]\n",
      "NO of Dicision Tree :  80\n",
      "              precision    recall  f1-score   support\n",
      "\n",
      "           0       0.82      0.86      0.84       109\n",
      "           1       0.91      0.87      0.89       167\n",
      "\n",
      "    accuracy                           0.87       276\n",
      "   macro avg       0.86      0.87      0.86       276\n",
      "weighted avg       0.87      0.87      0.87       276\n",
      "\n",
      "[[ 94  15]\n",
      " [ 21 146]]\n",
      "NO of Dicision Tree :  85\n",
      "              precision    recall  f1-score   support\n",
      "\n",
      "           0       0.81      0.86      0.84       109\n",
      "           1       0.91      0.87      0.89       167\n",
      "\n",
      "    accuracy                           0.87       276\n",
      "   macro avg       0.86      0.87      0.86       276\n",
      "weighted avg       0.87      0.87      0.87       276\n",
      "\n",
      "[[ 94  15]\n",
      " [ 22 145]]\n",
      "NO of Dicision Tree :  90\n",
      "              precision    recall  f1-score   support\n",
      "\n",
      "           0       0.80      0.85      0.83       109\n",
      "           1       0.90      0.86      0.88       167\n",
      "\n",
      "    accuracy                           0.86       276\n",
      "   macro avg       0.85      0.86      0.85       276\n",
      "weighted avg       0.86      0.86      0.86       276\n",
      "\n",
      "[[ 93  16]\n",
      " [ 23 144]]\n",
      "NO of Dicision Tree :  95\n",
      "              precision    recall  f1-score   support\n",
      "\n",
      "           0       0.81      0.85      0.83       109\n",
      "           1       0.90      0.87      0.88       167\n",
      "\n",
      "    accuracy                           0.86       276\n",
      "   macro avg       0.85      0.86      0.86       276\n",
      "weighted avg       0.86      0.86      0.86       276\n",
      "\n",
      "[[ 93  16]\n",
      " [ 22 145]]\n",
      "NO of Dicision Tree :  100\n",
      "              precision    recall  f1-score   support\n",
      "\n",
      "           0       0.81      0.85      0.83       109\n",
      "           1       0.90      0.87      0.88       167\n",
      "\n",
      "    accuracy                           0.86       276\n",
      "   macro avg       0.85      0.86      0.86       276\n",
      "weighted avg       0.86      0.86      0.86       276\n",
      "\n",
      "[[ 93  16]\n",
      " [ 22 145]]\n"
     ]
    }
   ],
   "source": [
    "#create  object of Random forest Tree \n",
    "for i in range(45,101,5):\n",
    "    rfc=RandomForestClassifier(n_estimators=i,max_features=10,random_state=1,criterion='entropy')\n",
    "    #bydefault gini\n",
    "    #call the function\n",
    "    print(\"NO of Dicision Tree : \",i)\n",
    "    rfc=create_model(rfc)\n",
    "    #here n_estimators means take how many no. of decisiontree \n",
    "#max_features means take how many input"
   ]
  },
  {
   "cell_type": "markdown",
   "id": "6d5ce5a0",
   "metadata": {},
   "source": [
    "### ADA boost"
   ]
  },
  {
   "cell_type": "code",
   "execution_count": 65,
   "id": "618dd287",
   "metadata": {},
   "outputs": [],
   "source": [
    "from sklearn.ensemble import AdaBoostClassifier"
   ]
  },
  {
   "cell_type": "code",
   "execution_count": 72,
   "id": "92d5b2a7",
   "metadata": {},
   "outputs": [
    {
     "name": "stdout",
     "output_type": "stream",
     "text": [
      "              precision    recall  f1-score   support\n",
      "\n",
      "           0       0.76      0.89      0.82       109\n",
      "           1       0.92      0.81      0.86       167\n",
      "\n",
      "    accuracy                           0.84       276\n",
      "   macro avg       0.84      0.85      0.84       276\n",
      "weighted avg       0.86      0.84      0.85       276\n",
      "\n",
      "[[ 97  12]\n",
      " [ 31 136]]\n"
     ]
    }
   ],
   "source": [
    "#create object of Ada boostClassifier class\n",
    "#for i in range(1,12):\n",
    "ada=AdaBoostClassifier(random_state=1,n_estimators=9)\n",
    "ada=create_model(ada)#call the function\n",
    "#print(\"no of features : \",i)"
   ]
  },
  {
   "cell_type": "markdown",
   "id": "0dca5be3",
   "metadata": {},
   "source": [
    "### gradient boost"
   ]
  },
  {
   "cell_type": "code",
   "execution_count": 73,
   "id": "d5fc730a",
   "metadata": {},
   "outputs": [],
   "source": [
    "from sklearn.ensemble import GradientBoostingClassifier"
   ]
  },
  {
   "cell_type": "code",
   "execution_count": 74,
   "id": "8082b971",
   "metadata": {},
   "outputs": [
    {
     "name": "stdout",
     "output_type": "stream",
     "text": [
      "              precision    recall  f1-score   support\n",
      "\n",
      "           0       0.90      0.57      0.70       109\n",
      "           1       0.77      0.96      0.86       167\n",
      "\n",
      "    accuracy                           0.80       276\n",
      "   macro avg       0.84      0.76      0.78       276\n",
      "weighted avg       0.82      0.80      0.79       276\n",
      "\n",
      "[[ 62  47]\n",
      " [  7 160]]\n"
     ]
    }
   ],
   "source": [
    "#CREATE THE OBJECT OF GRADIENT BOOST CLASSIFIER\n",
    "#for i in range(1,101):\n",
    "gbc=GradientBoostingClassifier(random_state=1,n_estimators=1)\n",
    "    #call the function\n",
    "gbc=create_model(gbc)\n",
    "#print(\"no of n_estimators or DC :\",i)\n",
    "#n_estimators can be <=100\n",
    "#algo use decision treeclassiifer"
   ]
  },
  {
   "cell_type": "markdown",
   "id": "97464ff9",
   "metadata": {},
   "source": [
    "### xgb gradient boost"
   ]
  },
  {
   "cell_type": "markdown",
   "id": "208f4857",
   "metadata": {},
   "source": [
    "### xtreme gradient boosting"
   ]
  },
  {
   "cell_type": "code",
   "execution_count": 77,
   "id": "b16ec434",
   "metadata": {},
   "outputs": [],
   "source": [
    "#!pip install xgboost"
   ]
  },
  {
   "cell_type": "code",
   "execution_count": 78,
   "id": "ef670048",
   "metadata": {},
   "outputs": [],
   "source": [
    "from xgboost import XGBClassifier"
   ]
  },
  {
   "cell_type": "code",
   "execution_count": 81,
   "id": "51391570",
   "metadata": {},
   "outputs": [
    {
     "name": "stdout",
     "output_type": "stream",
     "text": [
      "              precision    recall  f1-score   support\n",
      "\n",
      "           0       0.82      0.86      0.84       109\n",
      "           1       0.91      0.88      0.89       167\n",
      "\n",
      "    accuracy                           0.87       276\n",
      "   macro avg       0.87      0.87      0.87       276\n",
      "weighted avg       0.87      0.87      0.87       276\n",
      "\n",
      "[[ 94  15]\n",
      " [ 20 147]]\n"
     ]
    }
   ],
   "source": [
    "#create obejct of class XGB classifier\n",
    "#for i in range(1,101):\n",
    "xgc=XGBClassifier(n_estimators=10,random_state=1,reg_alpha=1)\n",
    "#automatic overfitiing : reg means regularisation and alpha or lambda:\n",
    "#hyper parameter\n",
    "#n_estimator<=100\n",
    "#call the function\n",
    "xgc=create_model(xgc)\n",
    "#print(\"no of estimator : \", i)"
   ]
  },
  {
   "cell_type": "markdown",
   "id": "781e4a0f",
   "metadata": {},
   "source": [
    "### support vector machine (SVM)"
   ]
  },
  {
   "cell_type": "code",
   "execution_count": 82,
   "id": "b91a26e6",
   "metadata": {},
   "outputs": [],
   "source": [
    "from sklearn.svm import LinearSVC"
   ]
  },
  {
   "cell_type": "code",
   "execution_count": 83,
   "id": "b99c5d9e",
   "metadata": {},
   "outputs": [],
   "source": [
    "#create object of LinearSVC Class\n",
    "svc=LinearSVC(random_state=1)  #hard margin by default"
   ]
  },
  {
   "cell_type": "code",
   "execution_count": 84,
   "id": "4ad11a68",
   "metadata": {},
   "outputs": [
    {
     "name": "stdout",
     "output_type": "stream",
     "text": [
      "              precision    recall  f1-score   support\n",
      "\n",
      "           0       0.80      0.89      0.84       109\n",
      "           1       0.92      0.85      0.88       167\n",
      "\n",
      "    accuracy                           0.87       276\n",
      "   macro avg       0.86      0.87      0.86       276\n",
      "weighted avg       0.87      0.87      0.87       276\n",
      "\n",
      "[[ 97  12]\n",
      " [ 25 142]]\n"
     ]
    }
   ],
   "source": [
    "#Call function\n",
    "svc=create_model(svc)"
   ]
  },
  {
   "cell_type": "markdown",
   "id": "476b8d3d",
   "metadata": {},
   "source": [
    "### K-NN"
   ]
  },
  {
   "cell_type": "code",
   "execution_count": 85,
   "id": "8bbf5c8e",
   "metadata": {},
   "outputs": [],
   "source": [
    "from sklearn.neighbors import KNeighborsClassifier"
   ]
  },
  {
   "cell_type": "code",
   "execution_count": 86,
   "id": "1389aa27",
   "metadata": {},
   "outputs": [],
   "source": [
    "#create the object of Neighborsclassifier\n",
    "#Create the object of KNeighborsClassifier  \n",
    "knc= KNeighborsClassifier(n_neighbors=5, metric='minkowski', p=2) \n",
    "#p=2 means Euclidean distance means sqrt(x2-x1)*2+(y2-y1)*2\n",
    "#n_neighbors means k means select minimum point (always odd)\n",
    "#best value of k=5"
   ]
  },
  {
   "cell_type": "code",
   "execution_count": 87,
   "id": "c8f54b86",
   "metadata": {},
   "outputs": [
    {
     "name": "stdout",
     "output_type": "stream",
     "text": [
      "              precision    recall  f1-score   support\n",
      "\n",
      "           0       0.80      0.87      0.83       109\n",
      "           1       0.91      0.86      0.88       167\n",
      "\n",
      "    accuracy                           0.86       276\n",
      "   macro avg       0.85      0.86      0.86       276\n",
      "weighted avg       0.87      0.86      0.86       276\n",
      "\n",
      "[[ 95  14]\n",
      " [ 24 143]]\n"
     ]
    }
   ],
   "source": [
    "knc=create_model(knc)"
   ]
  },
  {
   "cell_type": "markdown",
   "id": "3eab93cc",
   "metadata": {},
   "source": [
    "### Naive Bayes"
   ]
  },
  {
   "cell_type": "code",
   "execution_count": 88,
   "id": "a886bbb5",
   "metadata": {},
   "outputs": [],
   "source": [
    "from sklearn.naive_bayes import GaussianNB"
   ]
  },
  {
   "cell_type": "code",
   "execution_count": 89,
   "id": "bed78357",
   "metadata": {},
   "outputs": [],
   "source": [
    "#create thr functiom\n",
    "gnb=GaussianNB()"
   ]
  },
  {
   "cell_type": "code",
   "execution_count": 90,
   "id": "6c476d7d",
   "metadata": {},
   "outputs": [
    {
     "name": "stdout",
     "output_type": "stream",
     "text": [
      "              precision    recall  f1-score   support\n",
      "\n",
      "           0       0.76      0.86      0.81       109\n",
      "           1       0.90      0.83      0.86       167\n",
      "\n",
      "    accuracy                           0.84       276\n",
      "   macro avg       0.83      0.84      0.84       276\n",
      "weighted avg       0.85      0.84      0.84       276\n",
      "\n",
      "[[ 94  15]\n",
      " [ 29 138]]\n"
     ]
    }
   ],
   "source": [
    "#call the function\n",
    "gnb=create_model(gnb)"
   ]
  },
  {
   "cell_type": "markdown",
   "id": "a2c074ee",
   "metadata": {},
   "source": [
    "### Conclusion"
   ]
  },
  {
   "cell_type": "raw",
   "id": "fd8b2bbe",
   "metadata": {},
   "source": [
    "gradient boosting algo has the highest accuracy of 96%"
   ]
  }
 ],
 "metadata": {
  "kernelspec": {
   "display_name": "Python 3 (ipykernel)",
   "language": "python",
   "name": "python3"
  },
  "language_info": {
   "codemirror_mode": {
    "name": "ipython",
    "version": 3
   },
   "file_extension": ".py",
   "mimetype": "text/x-python",
   "name": "python",
   "nbconvert_exporter": "python",
   "pygments_lexer": "ipython3",
   "version": "3.10.2"
  }
 },
 "nbformat": 4,
 "nbformat_minor": 5
}
